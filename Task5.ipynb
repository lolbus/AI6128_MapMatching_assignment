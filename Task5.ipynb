{
 "cells": [
  {
   "cell_type": "code",
   "execution_count": 1,
   "metadata": {},
   "outputs": [
    {
     "name": "stderr",
     "output_type": "stream",
     "text": [
      "/Users/ming/opt/anaconda3/lib/python3.8/site-packages/pandas/core/computation/expressions.py:20: UserWarning: Pandas requires version '2.7.3' or newer of 'numexpr' (version '2.7.1' currently installed).\n",
      "  from pandas.core.computation.check import NUMEXPR_INSTALLED\n"
     ]
    }
   ],
   "source": [
    "import pandas as pd\n",
    "import numpy as np\n",
    "import osmnx as ox\n",
    "from shapely.geometry import Polygon\n",
    "import ast\n",
    "import matplotlib.pyplot as plt"
   ]
  },
  {
   "cell_type": "code",
   "execution_count": null,
   "metadata": {},
   "outputs": [],
   "source": [
    "edge_time_freq = pd.read_csv('./data/edge_time_freq.csv')\n",
    "most_traversed = edge_time_freq.sort_values(by='traverse frequency', ascending=False)\n",
    "longest_travel_time = edge_time_freq.sort_values(by='avg traverse time(s)', ascending=False)"
   ]
  },
  {
   "cell_type": "code",
   "execution_count": null,
   "metadata": {},
   "outputs": [],
   "source": [
    "import geopandas as gp\n",
    "edge_dataframe = gp.GeoDataFrame.from_file( \"porto_city/edges.shp\")"
   ]
  },
  {
   "cell_type": "code",
   "execution_count": null,
   "metadata": {},
   "outputs": [],
   "source": [
    "def lighten_color(color, amount=0.5):\n",
    "    \"\"\"\n",
    "    Lightens the given color by multiplying (1-luminosity) by the given amount.\n",
    "    Input can be matplotlib color string, hex string, or RGB tuple.\n",
    "\n",
    "    Examples:\n",
    "    >> lighten_color('g', 0.3)\n",
    "    >> lighten_color('#F034A3', 0.6)\n",
    "    >> lighten_color((.3,.55,.1), 0.5)\n",
    "    \"\"\"\n",
    "    import matplotlib.colors as mc\n",
    "    import colorsys\n",
    "    try:\n",
    "        c = mc.cnames[color]\n",
    "    except:\n",
    "        c = color\n",
    "    c = colorsys.rgb_to_hls(*mc.to_rgb(c))\n",
    "    return colorsys.hls_to_rgb(c[0], 1 - amount * (1 - c[1]), c[2])"
   ]
  },
  {
   "cell_type": "code",
   "execution_count": null,
   "metadata": {},
   "outputs": [],
   "source": [
    "\n",
    "list_of_x = []\n",
    "list_of_y = []\n",
    "print(list_of_x)\n",
    "for entry in most_traversed['points sequence'][1:8]:\n",
    "    coords = np.array(ast.literal_eval(entry))\n",
    "    list_of_x.append(coords[:, 0])\n",
    "    list_of_y.append(coords[:, 1])\n",
    "list_of_x = np.concatenate(list_of_x, axis=0)\n",
    "list_of_y = np.concatenate(list_of_y, axis=0)\n",
    "\n",
    "min_x = np.min(list_of_x) - 0.012\n",
    "max_x = np.max(list_of_x) + 0.012\n",
    "min_y = np.min(list_of_y) - 0.008\n",
    "max_y = np.max(list_of_y) + 0.008\n",
    "    \n",
    "boundary = [min_x, max_x, min_y, max_y]\n",
    "boundary_polygon = Polygon([(min_x,min_y),(max_x,min_y),(max_x,max_y),(min_x,max_y)])\n",
    "G = ox.graph_from_polygon(boundary_polygon, network_type='drive')\n",
    "\n",
    "fig, ax = ox.plot_graph(\n",
    "    G,\n",
    "    close=False,\n",
    "    show=False,\n",
    "    bgcolor=\"#333333\",\n",
    "    edge_color=\"w\",\n",
    "    edge_linewidth=0.3,\n",
    "    node_size=0,\n",
    ")\n",
    "for i, entry in enumerate(most_traversed['points sequence'][1:8]):\n",
    "    coords = np.array(ast.literal_eval(entry))\n",
    "    list_of_x = coords[:, 0]\n",
    "    list_of_y = coords[:, 1]\n",
    "    #plt.scatter()\n",
    "    \n",
    "    import geopandas as gp\n",
    "    edge_dataframe = gp.GeoDataFrame.from_file( \"porto_city/edges.shp\")\n",
    "    stree_name = edge_dataframe.iloc[most_traversed.iloc[i]['edge index']]['name']\n",
    "    print(stree_name)\n",
    "\n",
    "    plt.plot(list_of_x,list_of_y,linewidth=2, c=lighten_color('b', i*0.1))\n",
    "    plt.plot(list_of_x[0],list_of_y[0],marker =\"o\", c=lighten_color('b', i*0.1))\n",
    "    plt.plot(list_of_x[len(list_of_x)-1],list_of_y[len(list_of_y)-1],c=lighten_color('b', i*0.1), marker =\"o\")\n",
    "plt.show()"
   ]
  },
  {
   "cell_type": "code",
   "execution_count": null,
   "metadata": {},
   "outputs": [],
   "source": [
    "from matplotlib import cm\n",
    "import matplotlib.colors as mcolors\n",
    "\n",
    "list_of_x = []\n",
    "list_of_y = []\n",
    "print(list_of_x)\n",
    "for entry in longest_travel_time['points sequence'][:5]:\n",
    "    coords = np.array(ast.literal_eval(entry))\n",
    "    list_of_x.append(coords[:, 0])\n",
    "    list_of_y.append(coords[:, 1])\n",
    "list_of_x = np.concatenate(list_of_x, axis=0)\n",
    "list_of_y = np.concatenate(list_of_y, axis=0)\n",
    "\n",
    "min_x = np.min(list_of_x) - 0.005\n",
    "max_x = np.max(list_of_x) + 0.005\n",
    "min_y = np.min(list_of_y) - 0.01\n",
    "max_y = np.max(list_of_y) + 0.01\n",
    "    \n",
    "boundary = [min_x, max_x, min_y, max_y]\n",
    "boundary_polygon = Polygon([(min_x,min_y),(max_x,min_y),(max_x,max_y),(min_x,max_y)])\n",
    "G = ox.graph_from_polygon(boundary_polygon, network_type='drive')\n",
    "\n",
    "fig, ax = ox.plot_graph(\n",
    "    G,\n",
    "    #close=False,\n",
    "    show=False,\n",
    "    bgcolor=\"#333333\",\n",
    "    edge_color=\"w\",\n",
    "    edge_linewidth=0.3,\n",
    "    node_size=0,\n",
    ")\n",
    "\n",
    "for i, entry in enumerate(longest_travel_time['points sequence'][:5]):\n",
    "    coords = np.array(ast.literal_eval(entry))\n",
    "    list_of_x = coords[:, 0]\n",
    "    list_of_y = coords[:, 1]\n",
    "    #plt.scatter()\n",
    "    \n",
    "    import geopandas as gp\n",
    "    edge_dataframe = gp.GeoDataFrame.from_file( \"porto_city/edges.shp\")\n",
    "    stree_name = edge_dataframe.iloc[longest_travel_time.iloc[i]['edge index']]['name']\n",
    "    print(stree_name)\n",
    "\n",
    "    plt.plot(list_of_x,list_of_y,linewidth=2, c=lighten_color('r', i*0.15))\n",
    "    plt.plot(list_of_x[0],list_of_y[0],marker =\"o\", c=lighten_color('r', i*0.15))\n",
    "    plt.plot(list_of_x[len(list_of_x)-1],list_of_y[len(list_of_y)-1],c=lighten_color('r', i*0.1), marker =\"o\")\n",
    "    \n",
    "plt.show()"
   ]
  },
  {
   "cell_type": "code",
   "execution_count": null,
   "metadata": {},
   "outputs": [],
   "source": []
  }
 ],
 "metadata": {
  "kernelspec": {
   "display_name": "Python 3.8.5 ('base')",
   "language": "python",
   "name": "python3"
  },
  "language_info": {
   "codemirror_mode": {
    "name": "ipython",
    "version": 3
   },
   "file_extension": ".py",
   "mimetype": "text/x-python",
   "name": "python",
   "nbconvert_exporter": "python",
   "pygments_lexer": "ipython3",
   "version": "3.8.5"
  },
  "orig_nbformat": 4,
  "vscode": {
   "interpreter": {
    "hash": "3709b7b4b19526eaf07a614678f0df26fa1e59ee227d9885e58086dff24b0536"
   }
  }
 },
 "nbformat": 4,
 "nbformat_minor": 2
}
