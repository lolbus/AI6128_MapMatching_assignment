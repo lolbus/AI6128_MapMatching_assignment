{
 "cells": [
  {
   "cell_type": "code",
   "execution_count": null,
   "metadata": {},
   "outputs": [],
   "source": [
    "import matplotlib.pyplot as plt\n",
    "import osmnx as ox\n",
    "from descartes import PolygonPatch\n",
    "from shapely.geometry import MultiPolygon\n",
    "from shapely.geometry import Polygon\n",
    "import pandas\n",
    "import ast\n",
    "import numpy as np\n",
    "\n",
    "data = pandas.read_csv('./data/train_1000.csv')"
   ]
  },
  {
   "cell_type": "code",
   "execution_count": null,
   "metadata": {},
   "outputs": [],
   "source": [
    "#list(data.iloc[0][-1])\n",
    "#list_of_points = ast.literal_eval(data.iloc[0][-1])\n",
    "\n",
    "for trip in range(0,11):\n",
    "    coords = np.array(ast.literal_eval(data.iloc[trip][-1]))\n",
    "    list_of_x = coords[:, 0]\n",
    "    list_of_y = coords[:, 1]\n",
    "    min_x = min(list_of_x - 0.005)\n",
    "    max_x = max(list_of_x + 0.005)\n",
    "    min_y = min(list_of_y - 0.005)\n",
    "    max_y = max(list_of_y + 0.005)\n",
    "    boundary = [min_x, max_x, min_y, max_y]\n",
    "    boundary_polygon = Polygon([(min_x,min_y),(max_x,min_y),(max_x,max_y),(min_x,max_y)])\n",
    "    G = ox.graph_from_polygon(boundary_polygon, network_type='drive')\n",
    "    #nc = ox.plot.get_node_colors_by_attr(G, attr=\"y\", cmap=\"viridis\")\n",
    "    fig, ax = ox.plot_graph(\n",
    "        G,\n",
    "        show=False,\n",
    "        close=False,\n",
    "        bgcolor=\"#333333\",\n",
    "        edge_color=\"w\",\n",
    "        edge_linewidth=0.3,\n",
    "        node_size=0,\n",
    "    )\n",
    "    #plt.scatter()\n",
    "    plt.plot(list_of_x,list_of_y,c=\"r\", linewidth=5)\n",
    "    plt.plot(list_of_x[0],list_of_y[0],c=\"r\", marker =\"o\")\n",
    "    plt.plot(list_of_x[len(list_of_x)-1],list_of_y[len(list_of_y)-1],c=\"r\", marker =\"o\")\n",
    "    plt.annotate('Start', (list_of_x[0]+0.0005,list_of_y[0]+0.0005), c='r')\n",
    "    plt.annotate('End', (list_of_x[len(list_of_x)-1]+0.0005,list_of_y[len(list_of_y)-1]+0.0005), c='r')\n",
    "    plt.savefig('unmatched_map_'+str(trip)+'.jpg')\n",
    "    plt.show()"
   ]
  }
 ],
 "metadata": {
  "kernelspec": {
   "display_name": "Python 3.8.5 ('base')",
   "language": "python",
   "name": "python3"
  },
  "language_info": {
   "codemirror_mode": {
    "name": "ipython",
    "version": 3
   },
   "file_extension": ".py",
   "mimetype": "text/x-python",
   "name": "python",
   "nbconvert_exporter": "python",
   "pygments_lexer": "ipython3",
   "version": "3.8.5"
  },
  "orig_nbformat": 4,
  "vscode": {
   "interpreter": {
    "hash": "3709b7b4b19526eaf07a614678f0df26fa1e59ee227d9885e58086dff24b0536"
   }
  }
 },
 "nbformat": 4,
 "nbformat_minor": 2
}
